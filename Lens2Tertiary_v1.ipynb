{
 "cells": [
  {
   "cell_type": "code",
   "execution_count": 12,
   "metadata": {},
   "outputs": [
    {
     "name": "stdout",
     "output_type": "stream",
     "text": [
      "Transmitted power with 1 baffles:\n",
      "[99.84364656]%\n",
      "Power spilled with 1 baffles:\n",
      "[0.03810914]%\n",
      "Transmitted power with 2 baffles:\n",
      "[99.74043157]%\n",
      "Power spilled with 2 baffles:\n",
      "[0.03809477]%\n",
      "Transmitted power with 3 baffles:\n",
      "[99.64143815]%\n",
      "Power spilled with 3 baffles:\n",
      "[0.04088208]%\n",
      "Transmitted power with 4 baffles:\n",
      "[99.53346823]%\n",
      "Power spilled with 4 baffles:\n",
      "[0.05705423]%\n",
      "Transmitted power with 5 baffles:\n",
      "[99.43154503]%\n",
      "Power spilled with 5 baffles:\n",
      "[0.05740808]%\n"
     ]
    }
   ],
   "source": [
    "# Iterates between different numbers of baffles and measures power flow\n",
    "import numpy as np\n",
    "import matplotlib.pyplot as plt\n",
    "import astropy.units as u\n",
    "from astropy import constants as const\n",
    "import poppy\n",
    "\n",
    "\n",
    "fwhm_ = np.sqrt(np.log(2)/297.4178) * u.m \n",
    "ff = 500*u.GHz\n",
    "ll = const.c/ff\n",
    "\n",
    "wf = poppy.FresnelWavefront(beam_radius=fwhm_, wavelength=ll)\n",
    "\n",
    "lenslet_aperture = poppy.GaussianAperture(fwhm=fwhm_)\n",
    "wf *= lenslet_aperture\n",
    "\n",
    "ring = poppy.CircularAperture(radius=0.05*u.m)\n",
    "wf *= ring\n",
    "y, x = wf.coordinates()\n",
    "initial_power=np.sum(wf.intensity)\n",
    "\n",
    "nbaff_power=np.zeros([5,1])\n",
    "nbaff_spill=np.zeros([5,1])\n",
    "for nbaff in range(1,6):\n",
    "    wf_it=wf\n",
    "    wf_it.propagate_fresnel(8.9238*u.cm+(5-nbaff)*u.cm)\n",
    "\n",
    "    # up to 5 rings, each 2 cm apart\n",
    "    for dummyvar in np.arange(nbaff,6):\n",
    "        wf_it.propagate_fresnel(2*u.cm)\n",
    "        wf_it *= ring\n",
    "    \n",
    "    wf_it.propagate_fresnel(14.1455*u.cm)\n",
    "\n",
    "    temp = wf_it.intensity\n",
    "    for m in np.arange(0,2048,dtype=int):\n",
    "        for n in np.arange(0,2048,dtype=int):\n",
    "            if (0.05)**2 < x[m,n]**2 + y[m,n]**2 :\n",
    "                nbaff_spill[nbaff-1] += temp[m,n]  \n",
    "            else:\n",
    "                nbaff_power[nbaff-1] += temp[m,n]\n",
    "    print('Transmitted power with '+str(nbaff)+' baffles:')\n",
    "    print(str(100*nbaff_power[nbaff-1]/initial_power)+'%')\n",
    "    print('Power spilled with '+str(nbaff)+' baffles:')\n",
    "    print(str(100*nbaff_spill[nbaff-1]/initial_power)+'%')\n",
    "    \n",
    "#a=0 # Toggles zoom\n",
    "#b=2048-a\n",
    "#fig, ax = plt.subplots()\n",
    "#c=ax.pcolormesh(x[a:b,a:b],y[a:b,a:b],z2[a:b,a:b])\n",
    "#fig.colorbar(c,ax=ax)\n",
    "#plt.show()"
   ]
  },
  {
   "cell_type": "code",
   "execution_count": 10,
   "metadata": {},
   "outputs": [
    {
     "name": "stdout",
     "output_type": "stream",
     "text": [
      "1\n",
      "2\n",
      "3\n",
      "4\n"
     ]
    }
   ],
   "source": []
  },
  {
   "cell_type": "code",
   "execution_count": null,
   "metadata": {},
   "outputs": [],
   "source": []
  }
 ],
 "metadata": {
  "kernelspec": {
   "display_name": "Python 3",
   "language": "python",
   "name": "python3"
  },
  "language_info": {
   "codemirror_mode": {
    "name": "ipython",
    "version": 3
   },
   "file_extension": ".py",
   "mimetype": "text/x-python",
   "name": "python",
   "nbconvert_exporter": "python",
   "pygments_lexer": "ipython3",
   "version": "3.6.5"
  }
 },
 "nbformat": 4,
 "nbformat_minor": 4
}
